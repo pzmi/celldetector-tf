{
 "cells": [
  {
   "cell_type": "code",
   "execution_count": 1,
   "metadata": {},
   "outputs": [],
   "source": [
    "from matplotlib import pyplot as plt\n",
    "import cv2\n",
    "import numpy as np\n",
    "import os\n",
    "\n",
    "def load_img(img_path):\n",
    "    img = cv2.imread(img_path)\n",
    "    img = cv2.cvtColor(img, cv2.COLOR_BGR2RGB)\n",
    "    hsv_img = cv2.cvtColor(img, cv2.COLOR_RGB2HSV)\n",
    "    return hsv_img\n",
    "\n",
    "\n",
    "def mask_color(img, lower_color, upper_color):\n",
    "    mask = cv2.inRange(img, lower_color_mask, upper_color_mask)\n",
    "\n",
    "    kernel_open = np.ones((10,10))\n",
    "    kernel_close = np.ones((50,50))\n",
    "\n",
    "    mask_open = cv2.morphologyEx(mask,cv2.MORPH_OPEN, kernel_open)\n",
    "    mask_close = cv2.morphologyEx(mask_open,cv2.MORPH_CLOSE, kernel_close)\n",
    "    dilation = cv2.dilate(mask_close, np.ones((20, 20)), iterations = 1)\n",
    "\n",
    "    masked = cv2.bitwise_and(img, img, mask=dilation)\n",
    "    return masked\n",
    "\n",
    "\n",
    "def detect_bounds(img):\n",
    "    [y, x, z] = img.shape \n",
    "    mins = [y, x] # y,x\n",
    "    maxes = [0, 0]\n",
    "    for y in range(img.shape[0]):\n",
    "        for x in range(img.shape[1]):\n",
    "            if not img[y][x][0] == 0:\n",
    "                if y < mins[0]:\n",
    "                    mins[0] = y\n",
    "                if y > maxes[0]:\n",
    "                    maxes[0] = y\n",
    "                if x < mins[1]:\n",
    "                    mins[1] = x\n",
    "                if x > maxes[1]:\n",
    "                    maxes[1] = x\n",
    "    mins.reverse()\n",
    "    maxes.reverse()            \n",
    "    return [(mins[0], maxes[1]), tuple(maxes), (maxes[0], mins[1]), tuple(mins)]\n",
    "\n",
    "\n",
    "def bounds_from_file(path, lower_color_mask, upper_color_mask):\n",
    "    img = load_img(path)\n",
    "    masked = mask_color(img, lower_color_mask, upper_color_mask)\n",
    "    return detect_bounds(masked)"
   ]
  },
  {
   "cell_type": "code",
   "execution_count": 3,
   "metadata": {},
   "outputs": [
    {
     "name": "stdout",
     "output_type": "stream",
     "text": [
      "Skipped 624\n",
      "Skipped 555\n",
      "Skipped 182\n",
      "Skipped 9\n"
     ]
    }
   ],
   "source": [
    "unlabeled_dir_path = \"/mnt/Data/Documents/Praca_magisterska/dataset/dataset-master/unlabeled\"\n",
    "lower_color_mask = np.array([120,70,180])\n",
    "upper_color_mask = np.array([140,140,240])\n",
    "\n",
    "for udir in os.listdir(unlabeled_dir_path):\n",
    "    udir_path = os.path.join(unlabeled_dir_path, udir)\n",
    "    if os.path.isdir(udir_path):\n",
    "        files = os.listdir(udir_path)\n",
    "        skipped = 0\n",
    "        with open(os.path.join(unlabeled_dir_path, udir + \".csv\"), \"w\") as labels:\n",
    "            for file in files:\n",
    "                file_path = os.path.join(udir_path, file)\n",
    "                img = load_img(file_path)\n",
    "                masked = mask_color(img, lower_color_mask, upper_color_mask)\n",
    "                bounds = detect_bounds(masked)\n",
    "                (y, x, z) = img.shape\n",
    "                if (bounds[0] == (x, 0) and bounds[3] == (x, y)):\n",
    "                    skipped += 1\n",
    "                else:\n",
    "                    labels.write(\"{},{},{},{},{},{},{},{},{}\\n\".format(file, bounds[0][0], bounds[0][1], bounds[1][0], bounds[1][1], bounds[2][0], bounds[2][1], bounds[3][0], bounds[3][1]))\n",
    "        print(\"Skipped \" + str(skipped))"
   ]
  },
  {
   "cell_type": "code",
   "execution_count": null,
   "metadata": {},
   "outputs": [],
   "source": []
  }
 ],
 "metadata": {
  "kernelspec": {
   "display_name": "Python 3",
   "language": "python",
   "name": "python3"
  },
  "language_info": {
   "codemirror_mode": {
    "name": "ipython",
    "version": 3
   },
   "file_extension": ".py",
   "mimetype": "text/x-python",
   "name": "python",
   "nbconvert_exporter": "python",
   "pygments_lexer": "ipython3",
   "version": "3.6.5"
  }
 },
 "nbformat": 4,
 "nbformat_minor": 2
}
