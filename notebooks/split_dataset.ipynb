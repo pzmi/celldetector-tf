{
 "cells": [
  {
   "cell_type": "code",
   "execution_count": 53,
   "metadata": {},
   "outputs": [],
   "source": [
    "import os\n",
    "import lxml\n",
    "import random\n",
    "import xmltodict\n",
    "import shutil"
   ]
  },
  {
   "cell_type": "code",
   "execution_count": 54,
   "metadata": {},
   "outputs": [],
   "source": [
    "base_path = '/mnt/Data/Documents/Praca_magisterska/dataset/dataset-master/unlabeled/'\n",
    "dataset = os.path.join(base_path, 'all')\n",
    "annotations_dir = os.path.join(dataset, 'Annotations')\n",
    "images_dir = os.path.join(dataset, 'JPEGImages')\n",
    "test_dir = os.path.join(base_path, 'test')\n",
    "train_dir = os.path.join(base_path, 'train')\n",
    "test_annotations = os.path.join(test_dir, 'Annotations')\n",
    "test_images = os.path.join(test_dir, 'JPEGImages')\n",
    "train_annotations = os.path.join(train_dir, 'Annotations')\n",
    "train_images = os.path.join(train_dir, 'JPEGImages')"
   ]
  },
  {
   "cell_type": "code",
   "execution_count": 10,
   "metadata": {},
   "outputs": [
    {
     "data": {
      "text/plain": [
       "'_4_4956.xml'"
      ]
     },
     "execution_count": 10,
     "metadata": {},
     "output_type": "execute_result"
    }
   ],
   "source": [
    "os.chdir()\n",
    "annotations = os.listdir()\n",
    "annotations[0]"
   ]
  },
  {
   "cell_type": "code",
   "execution_count": 19,
   "metadata": {},
   "outputs": [],
   "source": [
    "size = len(annotations)\n",
    "test = random.sample(annotations, int(size/10))\n",
    "train = [x for x in annotations if x not in test]"
   ]
  },
  {
   "cell_type": "code",
   "execution_count": 47,
   "metadata": {},
   "outputs": [],
   "source": [
    "def get_paths_for(annotation):\n",
    "    annotation_file = os.path.join(annotations_dir, annotation)\n",
    "    with open(annotation_file, 'r') as f:\n",
    "        doc = xmltodict.parse(f.read())\n",
    "\n",
    "    image_dir = os.path.join(images_dir, doc['annotation']['folder'])\n",
    "    image_file = os.path.join(image_dir, doc['annotation']['filename'])\n",
    "    return (annotation_file, image_file)"
   ]
  },
  {
   "cell_type": "code",
   "execution_count": 48,
   "metadata": {},
   "outputs": [],
   "source": [
    "test_paths = [get_paths_for(t) for t in test]"
   ]
  },
  {
   "cell_type": "code",
   "execution_count": 50,
   "metadata": {},
   "outputs": [],
   "source": [
    "train_paths = [get_paths_for(t) for t in train]"
   ]
  },
  {
   "cell_type": "code",
   "execution_count": 79,
   "metadata": {},
   "outputs": [],
   "source": [
    "test_annotations_dir = test_annotations + \"/\"\n",
    "if not os.path.isdir(test_annotations_dir):\n",
    "    os.mkdir(test_annotations_dir)\n",
    "test_images_dir = test_images + \"/\"\n",
    "if not os.path.isdir(test_images_dir):\n",
    "    os.mkdir(test_images_dir)\n",
    "\n",
    "train_annotations_dir = train_annotations + \"/\"\n",
    "if not os.path.isdir(train_annotations_dir):\n",
    "    os.mkdir(train_annotations_dir)\n",
    "\n",
    "train_images_dir = train_images + \"/\"\n",
    "if not os.path.isdir(train_images_dir):\n",
    "    os.mkdir(train_images_dir)"
   ]
  },
  {
   "cell_type": "code",
   "execution_count": 80,
   "metadata": {},
   "outputs": [],
   "source": [
    "for p in test_paths:\n",
    "    shutil.copy(p[0], test_annotations_dir)\n",
    "    shutil.copy(p[1], test_images_dir)"
   ]
  },
  {
   "cell_type": "code",
   "execution_count": 81,
   "metadata": {},
   "outputs": [],
   "source": [
    "for p in train_paths:\n",
    "    shutil.copy(p[0], train_annotations_dir)\n",
    "    shutil.copy(p[1], train_images_dir)"
   ]
  },
  {
   "cell_type": "code",
   "execution_count": 61,
   "metadata": {},
   "outputs": [
    {
     "data": {
      "text/plain": [
       "('/mnt/Data/Documents/Praca_magisterska/dataset/dataset-master/unlabeled/all/Annotations/_53_876.xml',\n",
       " '/mnt/Data/Documents/Praca_magisterska/dataset/dataset-master/unlabeled/all/JPEGImages/EOSINOPHIL/_53_876.jpeg')"
      ]
     },
     "execution_count": 61,
     "metadata": {},
     "output_type": "execute_result"
    }
   ],
   "source": []
  }
 ],
 "metadata": {
  "kernelspec": {
   "display_name": "Python 3",
   "language": "python",
   "name": "python3"
  },
  "language_info": {
   "codemirror_mode": {
    "name": "ipython",
    "version": 3
   },
   "file_extension": ".py",
   "mimetype": "text/x-python",
   "name": "python",
   "nbconvert_exporter": "python",
   "pygments_lexer": "ipython3",
   "version": "3.6.6"
  }
 },
 "nbformat": 4,
 "nbformat_minor": 2
}
